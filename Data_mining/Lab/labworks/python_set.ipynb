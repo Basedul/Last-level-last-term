{
 "cells": [
  {
   "cell_type": "code",
   "execution_count": 1,
   "metadata": {},
   "outputs": [
    {
     "name": "stdout",
     "output_type": "stream",
     "text": [
      "set()\n"
     ]
    }
   ],
   "source": [
    "s=set() #constructor of set\n",
    "print(s) #a new empty set"
   ]
  },
  {
   "cell_type": "code",
   "execution_count": 2,
   "metadata": {},
   "outputs": [
    {
     "name": "stdout",
     "output_type": "stream",
     "text": [
      "{0, 1, 2, 3, 4, 5}\n",
      "<class 'set'>\n",
      "{0, 1, 2, 3, 4, 5}\n",
      "<class 'set'>\n"
     ]
    }
   ],
   "source": [
    "s1={0,1,2,3,4,5}  #nornmaly uses {} braces \n",
    "print(s1)\n",
    "print(type(s1))\n",
    "s2=set([0,1,2,3,4,5]) # alternatively with constructor a non empty set\n",
    "print(s2)\n",
    "print(type(s2))"
   ]
  },
  {
   "cell_type": "code",
   "execution_count": 3,
   "metadata": {},
   "outputs": [
    {
     "name": "stdout",
     "output_type": "stream",
     "text": [
      "b\n",
      "f\n",
      "a\n"
     ]
    }
   ],
   "source": [
    "s={'a','b','f'}\n",
    "#iteration over set\n",
    "for i in s:\n",
    "    print(i)\n",
    "    "
   ]
  },
  {
   "cell_type": "code",
   "execution_count": 7,
   "metadata": {},
   "outputs": [
    {
     "name": "stdout",
     "output_type": "stream",
     "text": [
      "{0, 1, 2, 3, 4, 5}\n",
      "{0, 1, 2, 3, 4, 5, 6}\n",
      "{0, 1, 2, 3, 4, 5, 6, 7, 8}\n"
     ]
    }
   ],
   "source": [
    "s={0,1,2,3,4,5}\n",
    "print(s)\n",
    "#add() members in python set\n",
    "s.add(6) #add() takes exactly 1 argument\n",
    "print(s)\n",
    "#update() members in set with new members\n",
    "s.update([7,8]) # will add 7 and 8 in the previous set\n",
    "print(s)"
   ]
  },
  {
   "cell_type": "code",
   "execution_count": 8,
   "metadata": {},
   "outputs": [
    {
     "name": "stdout",
     "output_type": "stream",
     "text": [
      "{1, 2, 3, 4, 5, 6, 7, 8}\n",
      "{2, 3, 4, 5, 6, 7, 8}\n",
      "{2, 3, 5, 6, 7, 8}\n",
      "{2, 3, 6, 7, 8}\n"
     ]
    }
   ],
   "source": [
    "s={0,1,2,3,4,5,6,7,8}\n",
    "#pop() will remove the item from set\n",
    "s.pop() # will pop the first member of the set every time\n",
    "print(s)\n",
    "s.pop()\n",
    "print(s)\n",
    "#remove() will remove the specified member\n",
    "s.remove(4)\n",
    "print(s)\n",
    "#discard() will remove the specified member \n",
    "s.discard(5)\n",
    "print(s)"
   ]
  },
  {
   "cell_type": "code",
   "execution_count": 4,
   "metadata": {},
   "outputs": [
    {
     "name": "stdout",
     "output_type": "stream",
     "text": [
      "{'c', 'b', 'a', 'd'}\n",
      "{'c', 'b', 'e'}\n",
      "{'c', 'b'}\n",
      "{'c', 'b', 'e', 'a', 'd'}\n",
      "{'a', 'd'}\n"
     ]
    },
    {
     "data": {
      "text/plain": [
       "{'a', 'd', 'e'}"
      ]
     },
     "execution_count": 4,
     "metadata": {},
     "output_type": "execute_result"
    }
   ],
   "source": [
    "s1=set(['a','b','c','d'])\n",
    "print(s1)\n",
    "s2=set(['b','c','e'])\n",
    "print(s2)\n",
    "#intersection of two set s1 and s2\n",
    "s3=s1&s2  #here & means intersection\n",
    "print(s3)\n",
    "\n",
    "#union of two set s1 and s2\n",
    "s4=s1|s2  # here | means union\n",
    "print(s4)\n",
    "\n",
    "#difference of two set s1 and s2\n",
    "s5=s1-s2 #here - means difference\n",
    "print(s5)\n",
    "\n",
    "#symmetric difference\n",
    "s6=s1^s2 # here ^ means symmetric difference/xor\n",
    "s6"
   ]
  },
  {
   "cell_type": "code",
   "execution_count": 11,
   "metadata": {},
   "outputs": [
    {
     "name": "stdout",
     "output_type": "stream",
     "text": [
      "{'d', 'a', 'c', 'b'}\n",
      "{'c', 'e', 'b'}\n",
      "False\n",
      "True\n",
      "False\n",
      "True\n",
      "{'d', 'a', 'c', 'b'}\n",
      "set()\n"
     ]
    }
   ],
   "source": [
    "s1=set(['a','b','c','d'])\n",
    "print(s1)\n",
    "s2=set(['b','c','e'])\n",
    "print(s2)\n",
    "#subset \n",
    "subset=s1<=s2\n",
    "print(subset)\n",
    "sb=set(['b','c'])\n",
    "subset=sb<=s1  # here sn is subset of s1\n",
    "print(subset)\n",
    "\n",
    "#superset\n",
    "superset=s1>=s2\n",
    "print(superset)\n",
    "superset=s1>=sb # here s1 is super set of sb\n",
    "print(superset)\n",
    "\n",
    "#shallow copy() of set\n",
    "s1new=s1.copy()\n",
    "print(s1new)\n",
    "\n",
    "#clear() set\n",
    "s1new.clear()\n",
    "print(s1new)"
   ]
  },
  {
   "cell_type": "code",
   "execution_count": null,
   "metadata": {},
   "outputs": [],
   "source": []
  }
 ],
 "metadata": {
  "kernelspec": {
   "display_name": "Python 3",
   "language": "python",
   "name": "python3"
  },
  "language_info": {
   "codemirror_mode": {
    "name": "ipython",
    "version": 3
   },
   "file_extension": ".py",
   "mimetype": "text/x-python",
   "name": "python",
   "nbconvert_exporter": "python",
   "pygments_lexer": "ipython3",
   "version": "3.6.5"
  }
 },
 "nbformat": 4,
 "nbformat_minor": 2
}
