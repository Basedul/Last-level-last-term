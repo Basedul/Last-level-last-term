{
 "cells": [
  {
   "cell_type": "markdown",
   "metadata": {},
   "source": [
    "# Python dictionary is a container of the unordered set of objects like lists. The objects are surrounded by curly braces { }. The items in a dictionary are a comma-separated list of key:value pairs where keys and values are Python data type.\n",
    "\n",
    "Each object or value accessed by key and keys are unique in the dictionary. As keys are used for indexing, they must be the immutable type (string, number, or tuple). You can create an empty dictionary using empty curly braces.\n"
   ]
  },
  {
   "cell_type": "code",
   "execution_count": 1,
   "metadata": {},
   "outputs": [
    {
     "name": "stdout",
     "output_type": "stream",
     "text": [
      "{}\n",
      "{'col1': 'red', 'col2': 'green', 'col3': 'blue', 'col4': 'yellow'}\n"
     ]
    }
   ],
   "source": [
    "#empty dictionary with constructor\n",
    "d=dict()\n",
    "print(d)\n",
    "\n",
    "#dictionary with key and value pairs\n",
    "d={\"col1\":\"red\",\"col2\":\"green\",\"col3\":\"blue\",\"col4\":\"yellow\"}\n",
    "print(d)"
   ]
  },
  {
   "cell_type": "code",
   "execution_count": 2,
   "metadata": {},
   "outputs": [
    {
     "name": "stdout",
     "output_type": "stream",
     "text": [
      "20.5\n",
      "33.12\n",
      "20.5\n",
      "23.22\n"
     ]
    }
   ],
   "source": [
    "#access values using keys\n",
    "d={1:20.5,2:43.03,5:23.22,4:33.12}\n",
    "print(d[1])\n",
    "print(d[4])\n",
    "\n",
    "# access values using get() method\n",
    "print(d.get(1))\n",
    "print(d.get(5))"
   ]
  },
  {
   "cell_type": "code",
   "execution_count": 1,
   "metadata": {},
   "outputs": [
    {
     "name": "stdout",
     "output_type": "stream",
     "text": [
      "{1: 20.5, 2: 43.03, 5: 23.22, 4: 33.12, 7: 34.23}\n",
      "{1: 20.5, 2: 43.03, 5: 23.22, 4: 33.12, 7: 34.23, 6: 45.36, 8: 24.45}\n"
     ]
    }
   ],
   "source": [
    "d={1:20.5,2:43.03,5:23.22,4:33.12}\n",
    "#add key/value in dictionary\n",
    "d[7]=34.23\n",
    "print(d)\n",
    "\n",
    "#add member with update() function\n",
    "d.update({6:45.36,8:24.45})\n",
    "print(d)"
   ]
  },
  {
   "cell_type": "code",
   "execution_count": 2,
   "metadata": {},
   "outputs": [
    {
     "name": "stdout",
     "output_type": "stream",
     "text": [
      "1  corressponds to  20.5\n",
      "2  corressponds to  43.03\n",
      "5  corressponds to  23.22\n",
      "4  corressponds to  33.12\n",
      "7  corressponds to  34.23\n",
      "6  corressponds to  45.36\n"
     ]
    }
   ],
   "source": [
    "d={1: 20.5, 2: 43.03, 5: 23.22, 4: 33.12, 7: 34.23, 6: 45.36}\n",
    "#iterate over dictionary\n",
    "for k,v in d.items():\n",
    "    print(k,\" corressponds to \",d[k])"
   ]
  },
  {
   "cell_type": "code",
   "execution_count": 3,
   "metadata": {},
   "outputs": [
    {
     "name": "stdout",
     "output_type": "stream",
     "text": [
      "{1: 20.5, 2: 43.03, 5: 23.22, 4: 33.12, 6: 45.36}\n"
     ]
    }
   ],
   "source": [
    "d={1: 20.5, 2: 43.03, 5: 23.22, 4: 33.12, 7: 34.23, 6: 45.36} \n",
    "#removing a key from dictionary\n",
    "if 7 in d:\n",
    "    del d[7]\n",
    "print(d)"
   ]
  },
  {
   "cell_type": "code",
   "execution_count": 6,
   "metadata": {},
   "outputs": [
    {
     "name": "stdout",
     "output_type": "stream",
     "text": [
      "2: 43.030000 \n",
      "4: 33.120000 \n",
      "5: 23.220000 \n",
      "6: 45.360000 \n",
      "7: 34.230000 \n"
     ]
    }
   ],
   "source": [
    "#sort a dictionary by  keys\n",
    "for k in sorted(d):\n",
    "    print(\"%d: %f \"%(k,d[k]))\n",
    "  "
   ]
  },
  {
   "cell_type": "code",
   "execution_count": 10,
   "metadata": {},
   "outputs": [
    {
     "name": "stdout",
     "output_type": "stream",
     "text": [
      "7\n",
      "84.23\n",
      "2\n",
      "13.03\n"
     ]
    }
   ],
   "source": [
    "d={1: 20.5, 2: 13.03, 5: 23.22, 4: 33.12, 7: 84.23, 6: 45.36}  \n",
    "#finding maximum key value from dictionary\n",
    "key_max=max(d.keys(),key=lambda k:d[k])\n",
    "print(key_max)\n",
    "print(d[key_max])\n",
    "\n",
    "#finding minimum key value from dictionary\n",
    "key_min=min(d.keys(),key=lambda k:d[k])\n",
    "print(key_min)\n",
    "print(d[key_min])"
   ]
  },
  {
   "cell_type": "code",
   "execution_count": 11,
   "metadata": {},
   "outputs": [
    {
     "name": "stdout",
     "output_type": "stream",
     "text": [
      "{1: 10, 2: 20, 3: 30, 4: 40, 5: 50, 6: 60}\n"
     ]
    }
   ],
   "source": [
    "#concatenate two or more dictionary\n",
    "d1={1:10,2:20}\n",
    "d2={3:30,4:40}\n",
    "d3={5:50,6:60}\n",
    "d4={}\n",
    "for k in (d1,d2,d3):\n",
    "    d4.update(k)\n",
    "print(d4)"
   ]
  },
  {
   "cell_type": "code",
   "execution_count": 12,
   "metadata": {},
   "outputs": [
    {
     "name": "stdout",
     "output_type": "stream",
     "text": [
      "Has mango\n",
      "No orange\n",
      "Length: 3\n"
     ]
    }
   ],
   "source": [
    "#use of 'in' keyword in dictionary\n",
    "fruits={\"apple\":1,\"mango\":2,\"banana\":3}\n",
    "if \"mango\" in fruits:\n",
    "    print(\"Has mango\")\n",
    "else:\n",
    "    print(\"No mango\")\n",
    "    \n",
    "#use in on nonexistent key\n",
    "if \"orange\" in fruits:\n",
    "    print(\"Has orange\")\n",
    "else:\n",
    "    print(\"No orange\")\n",
    "  \n",
    "#find the length of a python dictionay\n",
    "print(\"Length:\",len(fruits))"
   ]
  }
 ],
 "metadata": {
  "kernelspec": {
   "display_name": "Python 3",
   "language": "python",
   "name": "python3"
  },
  "language_info": {
   "codemirror_mode": {
    "name": "ipython",
    "version": 3
   },
   "file_extension": ".py",
   "mimetype": "text/x-python",
   "name": "python",
   "nbconvert_exporter": "python",
   "pygments_lexer": "ipython3",
   "version": "3.6.5"
  }
 },
 "nbformat": 4,
 "nbformat_minor": 2
}
